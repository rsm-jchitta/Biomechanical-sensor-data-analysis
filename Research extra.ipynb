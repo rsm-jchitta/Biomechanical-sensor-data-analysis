{
 "cells": [
  {
   "cell_type": "code",
   "execution_count": null,
   "metadata": {},
   "outputs": [],
   "source": [
    "#MLP CLASSIFIER\n",
    "# from sklearn.neural_network import MLPClassifier\n",
    "\n",
    "# Assuming you have already defined X_train, y_train, X_test, y_test\n",
    "\n",
    "# Create a Multi-layer Perceptron classifier\n",
    "# This example uses one hidden layer with 100 neurons, and a relu activation function as these are common choices.\n",
    "# You can modify the architecture as needed.\n",
    "mlp = MLPClassifier(hidden_layer_sizes=(100,), activation='relu', max_iter=300)\n",
    "\n",
    "# Fit MLP to the training data\n",
    "mlp.fit(X_train, y_train)\n",
    "\n",
    "# Predict the labels for the test set\n",
    "y_pred_mlp = mlp.predict(X_test)\n",
    "\n",
    "# Calculate the accuracy of the predictions\n",
    "accuracy_mlp = accuracy_score(y_test, y_pred_mlp)\n",
    "\n",
    "# Generate a classification report\n",
    "report_mlp = classification_report(y_test, y_pred_mlp)\n",
    "\n",
    "# Output the accuracy and classification report\n",
    "accuracy_mlp\n",
    "print(report_mlp)"
   ]
  },
  {
   "cell_type": "code",
   "execution_count": null,
   "metadata": {},
   "outputs": [],
   "source": [
    "from sklearn.naive_bayes import GaussianNB\n",
    "\n",
    "# Create a Gaussian Naive Bayes classifier\n",
    "nb = GaussianNB()\n",
    "\n",
    "# Fit Naive Bayes classifier to the training data\n",
    "nb.fit(X_train, y_train)\n",
    "\n",
    "# Predict the labels for the test set\n",
    "y_pred_nb = nb.predict(X_test)\n",
    "\n",
    "# Calculate the accuracy of the predictions\n",
    "accuracy_nb = accuracy_score(y_test, y_pred_nb)\n",
    "\n",
    "# Generate a classification report\n",
    "report_nb = classification_report(y_test, y_pred_nb, target_names=[\"Class 0\", \"Class 1\",\"Class 2\"])\n",
    "\n",
    "# Output the accuracy and classification report\n",
    "accuracy_nb"
   ]
  },
  {
   "cell_type": "code",
   "execution_count": null,
   "metadata": {},
   "outputs": [],
   "source": [
    "from sklearn.neighbors import KNeighborsClassifier\n",
    "from sklearn.metrics import accuracy_score\n",
    "\n",
    "# Assuming you have already defined X_train, y_train, X_test, y_test\n",
    "\n",
    "# Create a KNN classifier\n",
    "knn = KNeighborsClassifier(n_neighbors=3)\n",
    "\n",
    "# Fit KNN to the training data\n",
    "knn.fit(X_train, y_train)\n",
    "\n",
    "# Predict the labels for the test set\n",
    "y_pred = knn.predict(X_test)\n",
    "\n",
    "# Calculate the accuracy of the predictions\n",
    "accuracy = accuracy_score(y_test, y_pred)\n",
    "\n",
    "# Output the accuracy\n",
    "accuracy"
   ]
  }
 ],
 "metadata": {
  "language_info": {
   "name": "python"
  }
 },
 "nbformat": 4,
 "nbformat_minor": 2
}
